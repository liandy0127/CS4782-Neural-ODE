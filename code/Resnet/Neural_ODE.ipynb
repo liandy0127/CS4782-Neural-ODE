{
  "nbformat": 4,
  "nbformat_minor": 0,
  "metadata": {
    "colab": {
      "provenance": [],
      "gpuType": "T4"
    },
    "kernelspec": {
      "name": "python3",
      "display_name": "Python 3"
    },
    "language_info": {
      "name": "python"
    },
    "accelerator": "GPU"
  },
  "cells": [
    {
      "cell_type": "markdown",
      "source": [
        "##Part I: ODE-Net / Res-Net Replacement##\n"
      ],
      "metadata": {
        "id": "p9AYln60KhoN"
      }
    },
    {
      "cell_type": "code",
      "execution_count": null,
      "metadata": {
        "colab": {
          "base_uri": "https://localhost:8080/"
        },
        "collapsed": true,
        "id": "YtP8DLkIHkyJ",
        "outputId": "95b8bb51-dc99-4d0c-c0e5-eb78f26d94be"
      },
      "outputs": [
        {
          "output_type": "stream",
          "name": "stdout",
          "text": [
            "Requirement already satisfied: torch in /usr/local/lib/python3.11/dist-packages (2.6.0+cu124)\n",
            "Requirement already satisfied: torchvision in /usr/local/lib/python3.11/dist-packages (0.21.0+cu124)\n",
            "Collecting torchdiffeq\n",
            "  Downloading torchdiffeq-0.2.5-py3-none-any.whl.metadata (440 bytes)\n",
            "Requirement already satisfied: matplotlib in /usr/local/lib/python3.11/dist-packages (3.10.0)\n",
            "Requirement already satisfied: filelock in /usr/local/lib/python3.11/dist-packages (from torch) (3.18.0)\n",
            "Requirement already satisfied: typing-extensions>=4.10.0 in /usr/local/lib/python3.11/dist-packages (from torch) (4.13.2)\n",
            "Requirement already satisfied: networkx in /usr/local/lib/python3.11/dist-packages (from torch) (3.4.2)\n",
            "Requirement already satisfied: jinja2 in /usr/local/lib/python3.11/dist-packages (from torch) (3.1.6)\n",
            "Requirement already satisfied: fsspec in /usr/local/lib/python3.11/dist-packages (from torch) (2025.3.2)\n",
            "Collecting nvidia-cuda-nvrtc-cu12==12.4.127 (from torch)\n",
            "  Downloading nvidia_cuda_nvrtc_cu12-12.4.127-py3-none-manylinux2014_x86_64.whl.metadata (1.5 kB)\n",
            "Collecting nvidia-cuda-runtime-cu12==12.4.127 (from torch)\n",
            "  Downloading nvidia_cuda_runtime_cu12-12.4.127-py3-none-manylinux2014_x86_64.whl.metadata (1.5 kB)\n",
            "Collecting nvidia-cuda-cupti-cu12==12.4.127 (from torch)\n",
            "  Downloading nvidia_cuda_cupti_cu12-12.4.127-py3-none-manylinux2014_x86_64.whl.metadata (1.6 kB)\n",
            "Collecting nvidia-cudnn-cu12==9.1.0.70 (from torch)\n",
            "  Downloading nvidia_cudnn_cu12-9.1.0.70-py3-none-manylinux2014_x86_64.whl.metadata (1.6 kB)\n",
            "Collecting nvidia-cublas-cu12==12.4.5.8 (from torch)\n",
            "  Downloading nvidia_cublas_cu12-12.4.5.8-py3-none-manylinux2014_x86_64.whl.metadata (1.5 kB)\n",
            "Collecting nvidia-cufft-cu12==11.2.1.3 (from torch)\n",
            "  Downloading nvidia_cufft_cu12-11.2.1.3-py3-none-manylinux2014_x86_64.whl.metadata (1.5 kB)\n",
            "Collecting nvidia-curand-cu12==10.3.5.147 (from torch)\n",
            "  Downloading nvidia_curand_cu12-10.3.5.147-py3-none-manylinux2014_x86_64.whl.metadata (1.5 kB)\n",
            "Collecting nvidia-cusolver-cu12==11.6.1.9 (from torch)\n",
            "  Downloading nvidia_cusolver_cu12-11.6.1.9-py3-none-manylinux2014_x86_64.whl.metadata (1.6 kB)\n",
            "Collecting nvidia-cusparse-cu12==12.3.1.170 (from torch)\n",
            "  Downloading nvidia_cusparse_cu12-12.3.1.170-py3-none-manylinux2014_x86_64.whl.metadata (1.6 kB)\n",
            "Requirement already satisfied: nvidia-cusparselt-cu12==0.6.2 in /usr/local/lib/python3.11/dist-packages (from torch) (0.6.2)\n",
            "Requirement already satisfied: nvidia-nccl-cu12==2.21.5 in /usr/local/lib/python3.11/dist-packages (from torch) (2.21.5)\n",
            "Requirement already satisfied: nvidia-nvtx-cu12==12.4.127 in /usr/local/lib/python3.11/dist-packages (from torch) (12.4.127)\n",
            "Collecting nvidia-nvjitlink-cu12==12.4.127 (from torch)\n",
            "  Downloading nvidia_nvjitlink_cu12-12.4.127-py3-none-manylinux2014_x86_64.whl.metadata (1.5 kB)\n",
            "Requirement already satisfied: triton==3.2.0 in /usr/local/lib/python3.11/dist-packages (from torch) (3.2.0)\n",
            "Requirement already satisfied: sympy==1.13.1 in /usr/local/lib/python3.11/dist-packages (from torch) (1.13.1)\n",
            "Requirement already satisfied: mpmath<1.4,>=1.1.0 in /usr/local/lib/python3.11/dist-packages (from sympy==1.13.1->torch) (1.3.0)\n",
            "Requirement already satisfied: numpy in /usr/local/lib/python3.11/dist-packages (from torchvision) (2.0.2)\n",
            "Requirement already satisfied: pillow!=8.3.*,>=5.3.0 in /usr/local/lib/python3.11/dist-packages (from torchvision) (11.2.1)\n",
            "Requirement already satisfied: scipy>=1.4.0 in /usr/local/lib/python3.11/dist-packages (from torchdiffeq) (1.15.2)\n",
            "Requirement already satisfied: contourpy>=1.0.1 in /usr/local/lib/python3.11/dist-packages (from matplotlib) (1.3.2)\n",
            "Requirement already satisfied: cycler>=0.10 in /usr/local/lib/python3.11/dist-packages (from matplotlib) (0.12.1)\n",
            "Requirement already satisfied: fonttools>=4.22.0 in /usr/local/lib/python3.11/dist-packages (from matplotlib) (4.57.0)\n",
            "Requirement already satisfied: kiwisolver>=1.3.1 in /usr/local/lib/python3.11/dist-packages (from matplotlib) (1.4.8)\n",
            "Requirement already satisfied: packaging>=20.0 in /usr/local/lib/python3.11/dist-packages (from matplotlib) (24.2)\n",
            "Requirement already satisfied: pyparsing>=2.3.1 in /usr/local/lib/python3.11/dist-packages (from matplotlib) (3.2.3)\n",
            "Requirement already satisfied: python-dateutil>=2.7 in /usr/local/lib/python3.11/dist-packages (from matplotlib) (2.9.0.post0)\n",
            "Requirement already satisfied: six>=1.5 in /usr/local/lib/python3.11/dist-packages (from python-dateutil>=2.7->matplotlib) (1.17.0)\n",
            "Requirement already satisfied: MarkupSafe>=2.0 in /usr/local/lib/python3.11/dist-packages (from jinja2->torch) (3.0.2)\n",
            "Downloading nvidia_cublas_cu12-12.4.5.8-py3-none-manylinux2014_x86_64.whl (363.4 MB)\n",
            "\u001b[2K   \u001b[90m━━━━━━━━━━━━━━━━━━━━━━━━━━━━━━━━━━━━━━━━\u001b[0m \u001b[32m363.4/363.4 MB\u001b[0m \u001b[31m3.6 MB/s\u001b[0m eta \u001b[36m0:00:00\u001b[0m\n",
            "\u001b[?25hDownloading nvidia_cuda_cupti_cu12-12.4.127-py3-none-manylinux2014_x86_64.whl (13.8 MB)\n",
            "\u001b[2K   \u001b[90m━━━━━━━━━━━━━━━━━━━━━━━━━━━━━━━━━━━━━━━━\u001b[0m \u001b[32m13.8/13.8 MB\u001b[0m \u001b[31m42.1 MB/s\u001b[0m eta \u001b[36m0:00:00\u001b[0m\n",
            "\u001b[?25hDownloading nvidia_cuda_nvrtc_cu12-12.4.127-py3-none-manylinux2014_x86_64.whl (24.6 MB)\n",
            "\u001b[2K   \u001b[90m━━━━━━━━━━━━━━━━━━━━━━━━━━━━━━━━━━━━━━━━\u001b[0m \u001b[32m24.6/24.6 MB\u001b[0m \u001b[31m35.4 MB/s\u001b[0m eta \u001b[36m0:00:00\u001b[0m\n",
            "\u001b[?25hDownloading nvidia_cuda_runtime_cu12-12.4.127-py3-none-manylinux2014_x86_64.whl (883 kB)\n",
            "\u001b[2K   \u001b[90m━━━━━━━━━━━━━━━━━━━━━━━━━━━━━━━━━━━━━━━━\u001b[0m \u001b[32m883.7/883.7 kB\u001b[0m \u001b[31m49.0 MB/s\u001b[0m eta \u001b[36m0:00:00\u001b[0m\n",
            "\u001b[?25hDownloading nvidia_cudnn_cu12-9.1.0.70-py3-none-manylinux2014_x86_64.whl (664.8 MB)\n",
            "\u001b[2K   \u001b[90m━━━━━━━━━━━━━━━━━━━━━━━━━━━━━━━━━━━━━━━━\u001b[0m \u001b[32m664.8/664.8 MB\u001b[0m \u001b[31m2.9 MB/s\u001b[0m eta \u001b[36m0:00:00\u001b[0m\n",
            "\u001b[?25hDownloading nvidia_cufft_cu12-11.2.1.3-py3-none-manylinux2014_x86_64.whl (211.5 MB)\n",
            "\u001b[2K   \u001b[90m━━━━━━━━━━━━━━━━━━━━━━━━━━━━━━━━━━━━━━━━\u001b[0m \u001b[32m211.5/211.5 MB\u001b[0m \u001b[31m5.5 MB/s\u001b[0m eta \u001b[36m0:00:00\u001b[0m\n",
            "\u001b[?25hDownloading nvidia_curand_cu12-10.3.5.147-py3-none-manylinux2014_x86_64.whl (56.3 MB)\n",
            "\u001b[2K   \u001b[90m━━━━━━━━━━━━━━━━━━━━━━━━━━━━━━━━━━━━━━━━\u001b[0m \u001b[32m56.3/56.3 MB\u001b[0m \u001b[31m13.2 MB/s\u001b[0m eta \u001b[36m0:00:00\u001b[0m\n",
            "\u001b[?25hDownloading nvidia_cusolver_cu12-11.6.1.9-py3-none-manylinux2014_x86_64.whl (127.9 MB)\n",
            "\u001b[2K   \u001b[90m━━━━━━━━━━━━━━━━━━━━━━━━━━━━━━━━━━━━━━━━\u001b[0m \u001b[32m127.9/127.9 MB\u001b[0m \u001b[31m6.8 MB/s\u001b[0m eta \u001b[36m0:00:00\u001b[0m\n",
            "\u001b[?25hDownloading nvidia_cusparse_cu12-12.3.1.170-py3-none-manylinux2014_x86_64.whl (207.5 MB)\n",
            "\u001b[2K   \u001b[90m━━━━━━━━━━━━━━━━━━━━━━━━━━━━━━━━━━━━━━━━\u001b[0m \u001b[32m207.5/207.5 MB\u001b[0m \u001b[31m6.2 MB/s\u001b[0m eta \u001b[36m0:00:00\u001b[0m\n",
            "\u001b[?25hDownloading nvidia_nvjitlink_cu12-12.4.127-py3-none-manylinux2014_x86_64.whl (21.1 MB)\n",
            "\u001b[2K   \u001b[90m━━━━━━━━━━━━━━━━━━━━━━━━━━━━━━━━━━━━━━━━\u001b[0m \u001b[32m21.1/21.1 MB\u001b[0m \u001b[31m107.7 MB/s\u001b[0m eta \u001b[36m0:00:00\u001b[0m\n",
            "\u001b[?25hDownloading torchdiffeq-0.2.5-py3-none-any.whl (32 kB)\n",
            "Installing collected packages: nvidia-nvjitlink-cu12, nvidia-curand-cu12, nvidia-cufft-cu12, nvidia-cuda-runtime-cu12, nvidia-cuda-nvrtc-cu12, nvidia-cuda-cupti-cu12, nvidia-cublas-cu12, nvidia-cusparse-cu12, nvidia-cudnn-cu12, nvidia-cusolver-cu12, torchdiffeq\n",
            "  Attempting uninstall: nvidia-nvjitlink-cu12\n",
            "    Found existing installation: nvidia-nvjitlink-cu12 12.5.82\n",
            "    Uninstalling nvidia-nvjitlink-cu12-12.5.82:\n",
            "      Successfully uninstalled nvidia-nvjitlink-cu12-12.5.82\n",
            "  Attempting uninstall: nvidia-curand-cu12\n",
            "    Found existing installation: nvidia-curand-cu12 10.3.6.82\n",
            "    Uninstalling nvidia-curand-cu12-10.3.6.82:\n",
            "      Successfully uninstalled nvidia-curand-cu12-10.3.6.82\n",
            "  Attempting uninstall: nvidia-cufft-cu12\n",
            "    Found existing installation: nvidia-cufft-cu12 11.2.3.61\n",
            "    Uninstalling nvidia-cufft-cu12-11.2.3.61:\n",
            "      Successfully uninstalled nvidia-cufft-cu12-11.2.3.61\n",
            "  Attempting uninstall: nvidia-cuda-runtime-cu12\n",
            "    Found existing installation: nvidia-cuda-runtime-cu12 12.5.82\n",
            "    Uninstalling nvidia-cuda-runtime-cu12-12.5.82:\n",
            "      Successfully uninstalled nvidia-cuda-runtime-cu12-12.5.82\n",
            "  Attempting uninstall: nvidia-cuda-nvrtc-cu12\n",
            "    Found existing installation: nvidia-cuda-nvrtc-cu12 12.5.82\n",
            "    Uninstalling nvidia-cuda-nvrtc-cu12-12.5.82:\n",
            "      Successfully uninstalled nvidia-cuda-nvrtc-cu12-12.5.82\n",
            "  Attempting uninstall: nvidia-cuda-cupti-cu12\n",
            "    Found existing installation: nvidia-cuda-cupti-cu12 12.5.82\n",
            "    Uninstalling nvidia-cuda-cupti-cu12-12.5.82:\n",
            "      Successfully uninstalled nvidia-cuda-cupti-cu12-12.5.82\n",
            "  Attempting uninstall: nvidia-cublas-cu12\n",
            "    Found existing installation: nvidia-cublas-cu12 12.5.3.2\n",
            "    Uninstalling nvidia-cublas-cu12-12.5.3.2:\n",
            "      Successfully uninstalled nvidia-cublas-cu12-12.5.3.2\n",
            "  Attempting uninstall: nvidia-cusparse-cu12\n",
            "    Found existing installation: nvidia-cusparse-cu12 12.5.1.3\n",
            "    Uninstalling nvidia-cusparse-cu12-12.5.1.3:\n",
            "      Successfully uninstalled nvidia-cusparse-cu12-12.5.1.3\n",
            "  Attempting uninstall: nvidia-cudnn-cu12\n",
            "    Found existing installation: nvidia-cudnn-cu12 9.3.0.75\n",
            "    Uninstalling nvidia-cudnn-cu12-9.3.0.75:\n",
            "      Successfully uninstalled nvidia-cudnn-cu12-9.3.0.75\n",
            "  Attempting uninstall: nvidia-cusolver-cu12\n",
            "    Found existing installation: nvidia-cusolver-cu12 11.6.3.83\n",
            "    Uninstalling nvidia-cusolver-cu12-11.6.3.83:\n",
            "      Successfully uninstalled nvidia-cusolver-cu12-11.6.3.83\n",
            "Successfully installed nvidia-cublas-cu12-12.4.5.8 nvidia-cuda-cupti-cu12-12.4.127 nvidia-cuda-nvrtc-cu12-12.4.127 nvidia-cuda-runtime-cu12-12.4.127 nvidia-cudnn-cu12-9.1.0.70 nvidia-cufft-cu12-11.2.1.3 nvidia-curand-cu12-10.3.5.147 nvidia-cusolver-cu12-11.6.1.9 nvidia-cusparse-cu12-12.3.1.170 nvidia-nvjitlink-cu12-12.4.127 torchdiffeq-0.2.5\n",
            "Using device: cuda\n"
          ]
        }
      ],
      "source": [
        "!pip install torch torchvision torchdiffeq matplotlib\n",
        "import torch\n",
        "import torch.nn as nn\n",
        "import torch.optim as optim\n",
        "from torchdiffeq import odeint_adjoint as odeint  # Adjoint method for memory efficiency\n",
        "from torchvision import datasets, transforms\n",
        "from torch.utils.data import DataLoader\n",
        "import matplotlib.pyplot as plt\n",
        "import numpy as np\n",
        "from tqdm import tqdm\n",
        "\n",
        "# Device configuration\n",
        "device = torch.device(\"cuda\" if torch.cuda.is_available() else \"cpu\")\n",
        "print(\"Using device:\", device)"
      ]
    },
    {
      "cell_type": "markdown",
      "source": [
        "###ODE Dynamics (ODEFunc)###"
      ],
      "metadata": {
        "id": "cPhXS9e5K7BJ"
      }
    },
    {
      "cell_type": "code",
      "source": [
        "class ODEFunc(nn.Module):\n",
        "    \"\"\"Defines the dynamics dh/dt = f(h(t), t, theta)\"\"\"\n",
        "    def __init__(self, dim=64):\n",
        "        super().__init__()\n",
        "        self.nfe = 0  # Count function evaluations\n",
        "        self.net = nn.Sequential(\n",
        "            nn.Linear(dim, dim),\n",
        "            nn.Tanh(),\n",
        "            nn.Linear(dim, dim)\n",
        "        )\n",
        "\n",
        "    def forward(self, t, h):\n",
        "        self.nfe += 1\n",
        "        return self.net(h)"
      ],
      "metadata": {
        "id": "HEVndZ2hIUgG"
      },
      "execution_count": null,
      "outputs": []
    },
    {
      "cell_type": "markdown",
      "source": [
        "###ODE Block (ODEBlock)###"
      ],
      "metadata": {
        "id": "nnWyJO9vLKOQ"
      }
    },
    {
      "cell_type": "code",
      "source": [
        "class ODEBlock(nn.Module):\n",
        "    \"\"\"Wraps ODEFunc into a replaceable ResNet block\"\"\"\n",
        "    def __init__(self, odefunc, tol=1e-3):\n",
        "        super().__init__()\n",
        "        self.odefunc = odefunc\n",
        "        self.tol = tol\n",
        "\n",
        "    def forward(self, x):\n",
        "        # Integrate from t=0 to t=1 (arbitrary time interval)\n",
        "        t = torch.tensor([0., 1.], dtype=torch.float32).to(x.device)\n",
        "        out = odeint(self.odefunc, x, t, rtol=self.tol, atol=self.tol)\n",
        "        return out[1]  # Return final state"
      ],
      "metadata": {
        "id": "G8m3F2IiLdar",
        "colab": {
          "base_uri": "https://localhost:8080/",
          "height": 341
        },
        "outputId": "5edb4d4c-72a0-46a2-9f43-082c04eb0b42"
      },
      "execution_count": null,
      "outputs": [
        {
          "output_type": "error",
          "ename": "AttributeError",
          "evalue": "'ODEBlock' object has no attribute 'get_nfe'",
          "traceback": [
            "\u001b[0;31m---------------------------------------------------------------------------\u001b[0m",
            "\u001b[0;31mAttributeError\u001b[0m                            Traceback (most recent call last)",
            "\u001b[0;32m<ipython-input-18-f54843cfbc7d>\u001b[0m in \u001b[0;36m<cell line: 0>\u001b[0;34m()\u001b[0m\n\u001b[1;32m     19\u001b[0m \u001b[0;34m\u001b[0m\u001b[0m\n\u001b[1;32m     20\u001b[0m \u001b[0;31m# Then in your training loop, replace the NFE access with:\u001b[0m\u001b[0;34m\u001b[0m\u001b[0;34m\u001b[0m\u001b[0m\n\u001b[0;32m---> 21\u001b[0;31m \u001b[0mnfe\u001b[0m \u001b[0;34m=\u001b[0m \u001b[0mfeature_layers\u001b[0m\u001b[0;34m[\u001b[0m\u001b[0;36m0\u001b[0m\u001b[0;34m]\u001b[0m\u001b[0;34m.\u001b[0m\u001b[0mget_nfe\u001b[0m\u001b[0;34m(\u001b[0m\u001b[0;34m)\u001b[0m  \u001b[0;31m# Use the getter method\u001b[0m\u001b[0;34m\u001b[0m\u001b[0;34m\u001b[0m\u001b[0m\n\u001b[0m\u001b[1;32m     22\u001b[0m \u001b[0mfeature_layers\u001b[0m\u001b[0;34m[\u001b[0m\u001b[0;36m0\u001b[0m\u001b[0;34m]\u001b[0m\u001b[0;34m.\u001b[0m\u001b[0mreset_nfe\u001b[0m\u001b[0;34m(\u001b[0m\u001b[0;34m)\u001b[0m  \u001b[0;31m# Use the reset method\u001b[0m\u001b[0;34m\u001b[0m\u001b[0;34m\u001b[0m\u001b[0m\n\u001b[1;32m     23\u001b[0m \u001b[0;34m\u001b[0m\u001b[0m\n",
            "\u001b[0;32m/usr/local/lib/python3.11/dist-packages/torch/nn/modules/module.py\u001b[0m in \u001b[0;36m__getattr__\u001b[0;34m(self, name)\u001b[0m\n\u001b[1;32m   1926\u001b[0m             \u001b[0;32mif\u001b[0m \u001b[0mname\u001b[0m \u001b[0;32min\u001b[0m \u001b[0mmodules\u001b[0m\u001b[0;34m:\u001b[0m\u001b[0;34m\u001b[0m\u001b[0;34m\u001b[0m\u001b[0m\n\u001b[1;32m   1927\u001b[0m                 \u001b[0;32mreturn\u001b[0m \u001b[0mmodules\u001b[0m\u001b[0;34m[\u001b[0m\u001b[0mname\u001b[0m\u001b[0;34m]\u001b[0m\u001b[0;34m\u001b[0m\u001b[0;34m\u001b[0m\u001b[0m\n\u001b[0;32m-> 1928\u001b[0;31m         raise AttributeError(\n\u001b[0m\u001b[1;32m   1929\u001b[0m             \u001b[0;34mf\"'{type(self).__name__}' object has no attribute '{name}'\"\u001b[0m\u001b[0;34m\u001b[0m\u001b[0;34m\u001b[0m\u001b[0m\n\u001b[1;32m   1930\u001b[0m         )\n",
            "\u001b[0;31mAttributeError\u001b[0m: 'ODEBlock' object has no attribute 'get_nfe'"
          ]
        }
      ]
    },
    {
      "cell_type": "markdown",
      "source": [
        "###ODE-Net Architecture###"
      ],
      "metadata": {
        "id": "Mzc3CDgRLq5M"
      }
    },
    {
      "cell_type": "code",
      "source": [
        "class ODE_NET(nn.Module):\n",
        "    def __init__(self):\n",
        "        super().__init__()\n",
        "        # Downsampling (similar to ResNet)\n",
        "        self.downsample = nn.Sequential(\n",
        "            nn.Conv2d(1, 16, 3, stride=2),  # 28x28 → 13x13\n",
        "            nn.ReLU(),\n",
        "            nn.Flatten(),\n",
        "            nn.Linear(16*13*13, 64)  # Map to hidden dim\n",
        "        )\n",
        "        # ODE Block\n",
        "        self.odeblock = ODEBlock(ODEFunc(dim=64))\n",
        "        # Classifier\n",
        "        self.classifier = nn.Linear(64, 10)\n",
        "\n",
        "    def forward(self, x):\n",
        "        x = self.downsample(x)\n",
        "        x = self.odeblock(x)\n",
        "        return self.classifier(x)"
      ],
      "metadata": {
        "id": "lCwhx8HBLsUT"
      },
      "execution_count": null,
      "outputs": []
    },
    {
      "cell_type": "markdown",
      "source": [
        "###ResNet Baseline (Simplified)###"
      ],
      "metadata": {
        "id": "uMCWT2gcLzH-"
      }
    },
    {
      "cell_type": "code",
      "source": [
        "class ResNet(nn.Module):\n",
        "    def __init__(self):\n",
        "        super().__init__()\n",
        "        self.net = nn.Sequential(\n",
        "            nn.Conv2d(1, 16, 3, stride=2),\n",
        "            nn.ReLU(),\n",
        "            nn.Flatten(),\n",
        "            nn.Linear(16*13*13, 64),\n",
        "            *[nn.Sequential(nn.Linear(64, 64), nn.ReLU()) for _ in range(6)],  # 6 ResNet blocks\n",
        "            nn.Linear(64, 10)\n",
        "        )\n",
        "\n",
        "    def forward(self, x):\n",
        "        return self.net(x)"
      ],
      "metadata": {
        "id": "vzxHilxWLz9m"
      },
      "execution_count": null,
      "outputs": []
    },
    {
      "cell_type": "markdown",
      "source": [
        "###Training Loop (MNIST)###\n",
        "####Data Loading####"
      ],
      "metadata": {
        "id": "CoFjzS-7L-an"
      }
    },
    {
      "cell_type": "code",
      "source": [
        "transform = transforms.Compose([transforms.ToTensor()])\n",
        "train_loader = torch.utils.data.DataLoader(\n",
        "    datasets.MNIST('./data', train=True, download=True, transform=transform),\n",
        "    batch_size=128, shuffle=True)\n",
        "test_loader = torch.utils.data.DataLoader(\n",
        "    datasets.MNIST('./data', train=False, transform=transform),\n",
        "    batch_size=1000)"
      ],
      "metadata": {
        "colab": {
          "base_uri": "https://localhost:8080/"
        },
        "id": "GNic-pQkMBDn",
        "outputId": "1538fe61-7325-4e68-c870-57821147b659"
      },
      "execution_count": null,
      "outputs": [
        {
          "output_type": "stream",
          "name": "stderr",
          "text": [
            "100%|██████████| 9.91M/9.91M [00:00<00:00, 13.3MB/s]\n",
            "100%|██████████| 28.9k/28.9k [00:00<00:00, 414kB/s]\n",
            "100%|██████████| 1.65M/1.65M [00:00<00:00, 3.25MB/s]\n",
            "100%|██████████| 4.54k/4.54k [00:00<00:00, 9.79MB/s]\n"
          ]
        }
      ]
    },
    {
      "cell_type": "markdown",
      "source": [
        "####Training Function####"
      ],
      "metadata": {
        "id": "cs9KQtcgMSu3"
      }
    },
    {
      "cell_type": "code",
      "source": [
        "def train(model, optimizer, epochs=10):\n",
        "    model.train()\n",
        "    for epoch in tqdm(range(epochs)):\n",
        "        for x, y in train_loader:\n",
        "            x, y = x.to(device), y.to(device)\n",
        "            optimizer.zero_grad()\n",
        "            output = model(x)\n",
        "            loss = nn.CrossEntropyLoss()(output, y)\n",
        "            loss.backward()\n",
        "            optimizer.step()"
      ],
      "metadata": {
        "id": "QZn-dI2fMkRs"
      },
      "execution_count": null,
      "outputs": []
    },
    {
      "cell_type": "markdown",
      "source": [
        "####Evaluation####"
      ],
      "metadata": {
        "id": "6AIN61oJMzkF"
      }
    },
    {
      "cell_type": "code",
      "source": [
        "def accuracy(model, loader):\n",
        "    correct = 0\n",
        "    with torch.no_grad():\n",
        "        for x, y in loader:\n",
        "            x, y = x.to(device), y.to(device)\n",
        "            pred = model(x).argmax(dim=1)\n",
        "            correct += (pred == y).sum().item()\n",
        "    return correct / len(loader.dataset)"
      ],
      "metadata": {
        "id": "Yw8bq56NM10l"
      },
      "execution_count": null,
      "outputs": []
    },
    {
      "cell_type": "markdown",
      "source": [
        "###Run Experiments###\n",
        "####Train ODE-Net####"
      ],
      "metadata": {
        "id": "ykwu1MIyM9TQ"
      }
    },
    {
      "cell_type": "code",
      "source": [
        "odenet = ODE_NET().to(device)\n",
        "optimizer = optim.Adam(odenet.parameters(), lr=1e-3)\n",
        "train(odenet, optimizer, epochs=10)\n",
        "odenet_acc = accuracy(odenet, test_loader)\n",
        "print(f\"ODE-Net Test Accuracy: {odenet_acc:.2%}\")"
      ],
      "metadata": {
        "colab": {
          "base_uri": "https://localhost:8080/"
        },
        "id": "xjTOq-2nNAHs",
        "outputId": "91fbe514-bd94-4c9c-8e2a-75a5129a3676"
      },
      "execution_count": null,
      "outputs": [
        {
          "output_type": "stream",
          "name": "stderr",
          "text": [
            "100%|██████████| 10/10 [04:09<00:00, 24.94s/it]\n"
          ]
        },
        {
          "output_type": "stream",
          "name": "stdout",
          "text": [
            "ODE-Net Test Accuracy: 98.10%\n"
          ]
        }
      ]
    },
    {
      "cell_type": "markdown",
      "source": [
        "####Train ResNet####"
      ],
      "metadata": {
        "id": "E-yZxiLuNIMo"
      }
    },
    {
      "cell_type": "code",
      "source": [
        "resnet = ResNet().to(device)\n",
        "optimizer = optim.Adam(resnet.parameters(), lr=1e-3)\n",
        "train(resnet, optimizer, epochs=10)\n",
        "resnet_acc = accuracy(resnet, test_loader)\n",
        "print(f\"ResNet Test Accuracy: {resnet_acc:.2%}\")"
      ],
      "metadata": {
        "colab": {
          "base_uri": "https://localhost:8080/"
        },
        "id": "CzVg4btkNJM7",
        "outputId": "44fff78a-db2a-4929-b2ab-bf2d6b9ff797"
      },
      "execution_count": null,
      "outputs": [
        {
          "output_type": "stream",
          "name": "stderr",
          "text": [
            "100%|██████████| 10/10 [01:13<00:00,  7.31s/it]\n"
          ]
        },
        {
          "output_type": "stream",
          "name": "stdout",
          "text": [
            "ResNet Test Accuracy: 97.68%\n"
          ]
        }
      ]
    },
    {
      "cell_type": "markdown",
      "source": [
        "###Visualize Results###\n",
        "####Table 1 (Accuracy Comparison)####"
      ],
      "metadata": {
        "id": "F8djFn8lNNq5"
      }
    },
    {
      "cell_type": "code",
      "source": [
        "import pandas as pd\n",
        "results = pd.DataFrame({\n",
        "    \"Model\": [\"ODE-Net\", \"ResNet\"],\n",
        "    \"Test Error (%)\": [100 * (1 - odenet_acc), 100 * (1 - resnet_acc)],\n",
        "    \"Params (M)\": [sum(p.numel() for p in odenet.parameters()) / 1e6,\n",
        "                   sum(p.numel() for p in resnet.parameters()) / 1e6]\n",
        "})\n",
        "print(results)"
      ],
      "metadata": {
        "colab": {
          "base_uri": "https://localhost:8080/"
        },
        "id": "iSVRly_nNQ67",
        "outputId": "4fdb5bdf-965d-449c-9fa3-e509c0c67ea7"
      },
      "execution_count": null,
      "outputs": [
        {
          "output_type": "stream",
          "name": "stdout",
          "text": [
            "     Model  Test Error (%)  Params (M)\n",
            "0  ODE-Net            1.90     0.18225\n",
            "1   ResNet            2.32     0.19889\n"
          ]
        }
      ]
    },
    {
      "cell_type": "markdown",
      "source": [
        "####Plot Function Evaluations (NFE)####"
      ],
      "metadata": {
        "id": "a6_dW81cNTcJ"
      }
    },
    {
      "cell_type": "code",
      "source": [
        "# After training, check NFE\n",
        "print(f\"ODE-Net NFE: {odenet.odeblock.odefunc.nfe}\")"
      ],
      "metadata": {
        "colab": {
          "base_uri": "https://localhost:8080/"
        },
        "id": "tc8AwHUgNYE_",
        "outputId": "6014ec37-4561-41bc-bf32-fdb673911928"
      },
      "execution_count": null,
      "outputs": [
        {
          "output_type": "stream",
          "name": "stdout",
          "text": [
            "ODE-Net NFE: 141198\n"
          ]
        }
      ]
    },
    {
      "cell_type": "markdown",
      "source": [
        "####Scaled up Training####"
      ],
      "metadata": {
        "id": "fWmlD7e7NK6N"
      }
    },
    {
      "cell_type": "code",
      "source": [
        "import time\n",
        "\n",
        "# Device configuration\n",
        "device = torch.device(\"cuda\" if torch.cuda.is_available() else \"cpu\")\n",
        "print(\"Using device:\", device)\n",
        "\n",
        "# 1. Define GroupNorm function\n",
        "def norm(dim):\n",
        "    return nn.GroupNorm(min(32, dim), dim)\n",
        "\n",
        "# 2. Implement ConcatConv2d\n",
        "class ConcatConv2d(nn.Module):\n",
        "    def __init__(self, dim_in, dim_out, kernel_size=3, stride=1, padding=0):\n",
        "        super().__init__()\n",
        "        self._layer = nn.Conv2d(\n",
        "            dim_in + 1,  # +1 for time dimension\n",
        "            dim_out,\n",
        "            kernel_size=kernel_size,\n",
        "            stride=stride,\n",
        "            padding=padding\n",
        "        )\n",
        "\n",
        "    def forward(self, t, x):\n",
        "        tt = torch.ones_like(x[:, :1, :, :]) * t\n",
        "        ttx = torch.cat([tt, x], 1)\n",
        "        return self._layer(ttx)\n",
        "\n",
        "# 3. Flatten layer\n",
        "class Flatten(nn.Module):\n",
        "    def forward(self, x):\n",
        "        return x.view(x.size(0), -1)\n",
        "\n",
        "# 4. ODE Function (without NFE tracking)\n",
        "class ODEFunc(nn.Module):\n",
        "    def __init__(self, dim):\n",
        "        super().__init__()\n",
        "        self.norm1 = norm(dim)\n",
        "        self.relu = nn.ReLU(inplace=True)\n",
        "        self.conv1 = ConcatConv2d(dim, dim, kernel_size=3, padding=1)\n",
        "        self.norm2 = norm(dim)\n",
        "        self.conv2 = ConcatConv2d(dim, dim, kernel_size=3, padding=1)\n",
        "        self.norm3 = norm(dim)\n",
        "\n",
        "    def forward(self, t, x):\n",
        "        out = self.norm1(x)\n",
        "        out = self.relu(out)\n",
        "        out = self.conv1(t, out)\n",
        "        out = self.norm2(out)\n",
        "        out = self.relu(out)\n",
        "        out = self.conv2(t, out)\n",
        "        out = self.norm3(out)\n",
        "        return out\n",
        "\n",
        "# 5. ODE Block (simplified)\n",
        "class ODEBlock(nn.Module):\n",
        "    def __init__(self, odefunc, tol=1e-3):\n",
        "        super().__init__()\n",
        "        self.odefunc = odefunc\n",
        "        self.tol = tol\n",
        "        self.integration_time = torch.tensor([0., 1.]).float()\n",
        "\n",
        "    def forward(self, x):\n",
        "        self.integration_time = self.integration_time.type_as(x)\n",
        "        out = odeint(self.odefunc, x, self.integration_time, rtol=self.tol, atol=self.tol)\n",
        "        return out[1]\n",
        "\n",
        "# Model architecture\n",
        "downsampling_layers = [\n",
        "    nn.Conv2d(1, 64, kernel_size=3, stride=1),\n",
        "    norm(64),\n",
        "    nn.ReLU(inplace=True),\n",
        "    nn.Conv2d(64, 64, kernel_size=4, stride=2, padding=1),\n",
        "    norm(64),\n",
        "    nn.ReLU(inplace=True),\n",
        "    nn.Conv2d(64, 64, kernel_size=4, stride=2, padding=1),\n",
        "    norm(64),\n",
        "    nn.ReLU(inplace=True)\n",
        "]\n",
        "\n",
        "odefunc = ODEFunc(64)\n",
        "feature_layers = [ODEBlock(odefunc)]\n",
        "fc_layers = [\n",
        "    norm(64),\n",
        "    nn.ReLU(inplace=True),\n",
        "    nn.AdaptiveAvgPool2d((1, 1)),\n",
        "    Flatten(),\n",
        "    nn.Linear(64, 10)\n",
        "]\n",
        "\n",
        "model = nn.Sequential(*downsampling_layers, *feature_layers, *fc_layers).to(device)\n",
        "\n",
        "# Training setup\n",
        "criterion = nn.CrossEntropyLoss()\n",
        "# optimizer = torch.optim.SGD(model.parameters(), lr=0.1, momentum=0.9)\n",
        "# scheduler = torch.optim.lr_scheduler.MultiStepLR(\n",
        "#     optimizer, milestones=[60, 100, 140], gamma=0.1\n",
        "# )\n",
        "\n",
        "# Data loading\n",
        "# ==================== DATA LOADING ====================\n",
        "transform = transforms.Compose([\n",
        "    transforms.RandomCrop(28, padding=4),  # Data augmentation\n",
        "    transforms.ToTensor(),\n",
        "])\n",
        "\n",
        "# Split original training set into train and validation\n",
        "train_dataset = datasets.MNIST('./data', train=True, download=True, transform=transform)\n",
        "train_size = int(0.9 * len(train_dataset))  # 90% for training\n",
        "val_size = len(train_dataset) - train_size  # 10% for validation\n",
        "train_dataset, val_dataset = torch.utils.data.random_split(train_dataset, [train_size, val_size])\n",
        "\n",
        "# Test set (no augmentation)\n",
        "test_dataset = datasets.MNIST('./data', train=False, transform=transforms.ToTensor())\n",
        "\n",
        "# Create data loaders\n",
        "train_loader = DataLoader(train_dataset, batch_size=128, shuffle=True, num_workers=2)\n",
        "val_loader = DataLoader(val_dataset, batch_size=1000, num_workers=2)\n",
        "test_loader = DataLoader(test_dataset, batch_size=1000, num_workers=2)\n",
        "\n",
        "# ==================== TRAINING SETUP ====================\n",
        "# Modify your optimizer to include weight decay\n",
        "optimizer = torch.optim.SGD(model.parameters(),\n",
        "                          lr=0.1,\n",
        "                          momentum=0.9,\n",
        "                          weight_decay=1e-4)  # Added regularization\n",
        "\n",
        "# Keep your existing scheduler\n",
        "scheduler = torch.optim.lr_scheduler.MultiStepLR(\n",
        "    optimizer,\n",
        "    milestones=[11, 19, 26],  # 60/160*30≈11, 100/160*30≈19, 140/160*30≈26\n",
        "    gamma=0.1\n",
        ")\n",
        "# Training loop without NFE tracking\n",
        "for epoch in range(30):\n",
        "    model.train()\n",
        "    epoch_start = time.time()\n",
        "\n",
        "    for x, y in train_loader:\n",
        "        x, y = x.to(device), y.to(device)\n",
        "        optimizer.zero_grad()\n",
        "        output = model(x)\n",
        "        loss = criterion(output, y)\n",
        "        loss.backward()\n",
        "        optimizer.step()\n",
        "\n",
        "    scheduler.step()\n",
        "\n",
        "    # Validation\n",
        "    model.eval()\n",
        "    correct = 0\n",
        "    total = 0\n",
        "    with torch.no_grad():\n",
        "        for x, y in test_loader:\n",
        "            x, y = x.to(device), y.to(device)\n",
        "            outputs = model(x)\n",
        "            _, predicted = torch.max(outputs.data, 1)\n",
        "            total += y.size(0)\n",
        "            correct += (predicted == y).sum().item()\n",
        "\n",
        "    acc = 100 * correct / total\n",
        "    epoch_time = time.time() - epoch_start\n",
        "    print(f'Epoch {epoch+1}/30 | Time: {epoch_time:.2f}s | Test Acc: {acc:.2f}%')"
      ],
      "metadata": {
        "colab": {
          "base_uri": "https://localhost:8080/"
        },
        "id": "UWBmMBorNJZR",
        "outputId": "045098fd-2df7-427d-9b60-50625349d7d5"
      },
      "execution_count": null,
      "outputs": [
        {
          "output_type": "stream",
          "name": "stdout",
          "text": [
            "Using device: cuda\n",
            "Epoch 1/30 | Time: 57.04s | Test Acc: 98.12%\n",
            "Epoch 2/30 | Time: 54.82s | Test Acc: 98.53%\n",
            "Epoch 3/30 | Time: 56.96s | Test Acc: 98.81%\n",
            "Epoch 4/30 | Time: 55.40s | Test Acc: 98.96%\n",
            "Epoch 5/30 | Time: 54.44s | Test Acc: 99.18%\n",
            "Epoch 6/30 | Time: 56.48s | Test Acc: 99.29%\n",
            "Epoch 7/30 | Time: 56.88s | Test Acc: 99.15%\n",
            "Epoch 8/30 | Time: 59.13s | Test Acc: 99.09%\n",
            "Epoch 9/30 | Time: 60.39s | Test Acc: 98.94%\n",
            "Epoch 10/30 | Time: 60.08s | Test Acc: 99.20%\n",
            "Epoch 11/30 | Time: 58.80s | Test Acc: 99.09%\n",
            "Epoch 12/30 | Time: 60.24s | Test Acc: 99.12%\n",
            "Epoch 13/30 | Time: 60.72s | Test Acc: 99.32%\n",
            "Epoch 14/30 | Time: 61.22s | Test Acc: 99.27%\n",
            "Epoch 15/30 | Time: 60.89s | Test Acc: 99.42%\n",
            "Epoch 16/30 | Time: 61.12s | Test Acc: 99.37%\n",
            "Epoch 17/30 | Time: 61.18s | Test Acc: 98.92%\n",
            "Epoch 18/30 | Time: 60.82s | Test Acc: 99.26%\n",
            "Epoch 19/30 | Time: 61.12s | Test Acc: 99.34%\n",
            "Epoch 20/30 | Time: 60.81s | Test Acc: 99.17%\n",
            "Epoch 21/30 | Time: 61.14s | Test Acc: 99.17%\n",
            "Epoch 22/30 | Time: 60.94s | Test Acc: 99.04%\n",
            "Epoch 23/30 | Time: 60.27s | Test Acc: 99.14%\n",
            "Epoch 24/30 | Time: 59.55s | Test Acc: 99.21%\n",
            "Epoch 25/30 | Time: 59.88s | Test Acc: 99.10%\n",
            "Epoch 26/30 | Time: 60.21s | Test Acc: 99.43%\n",
            "Epoch 27/30 | Time: 60.20s | Test Acc: 99.31%\n",
            "Epoch 28/30 | Time: 59.96s | Test Acc: 99.36%\n",
            "Epoch 29/30 | Time: 60.38s | Test Acc: 99.27%\n",
            "Epoch 30/30 | Time: 60.18s | Test Acc: 99.30%\n"
          ]
        }
      ]
    },
    {
      "cell_type": "markdown",
      "source": [
        "####Comparison with Res Net####"
      ],
      "metadata": {
        "id": "DqNVA0Udqbs6"
      }
    },
    {
      "cell_type": "code",
      "source": [
        "# 1. First let's define a comparable ResNet\n",
        "class BasicResNet(nn.Module):\n",
        "    def __init__(self):\n",
        "        super().__init__()\n",
        "        self.net = nn.Sequential(\n",
        "            nn.Conv2d(1, 64, kernel_size=3, stride=1),\n",
        "            norm(64),\n",
        "            nn.ReLU(),\n",
        "            self._make_layer(64, 64, 6),  # 6 residual blocks\n",
        "            nn.AdaptiveAvgPool2d((1, 1)),\n",
        "            Flatten(),\n",
        "            nn.Linear(64, 10)\n",
        "        )\n",
        "\n",
        "    def _make_layer(self, in_channels, out_channels, blocks):\n",
        "        layers = []\n",
        "        for _ in range(blocks):\n",
        "            layers.append(ResBlock(in_channels, out_channels))\n",
        "        return nn.Sequential(*layers)\n",
        "\n",
        "# 2. Define a residual block (for the ResNet)\n",
        "class ResBlock(nn.Module):\n",
        "    def __init__(self, in_channels, out_channels):\n",
        "        super().__init__()\n",
        "        self.conv1 = nn.Conv2d(in_channels, out_channels, kernel_size=3, padding=1)\n",
        "        self.norm1 = norm(out_channels)\n",
        "        self.conv2 = nn.Conv2d(out_channels, out_channels, kernel_size=3, padding=1)\n",
        "        self.norm2 = norm(out_channels)\n",
        "        self.relu = nn.ReLU()\n",
        "\n",
        "    def forward(self, x):\n",
        "        residual = x\n",
        "        out = self.conv1(x)\n",
        "        out = self.norm1(out)\n",
        "        out = self.relu(out)\n",
        "        out = self.conv2(out)\n",
        "        out = self.norm2(out)\n",
        "        out += residual\n",
        "        out = self.relu(out)\n",
        "        return out\n",
        "\n",
        "# 3. Train and compare both models\n",
        "def train_and_compare():\n",
        "    # Initialize models\n",
        "    ode_model = nn.Sequential(*downsampling_layers, *feature_layers, *fc_layers).to(device)\n",
        "    resnet_model = BasicResNet().to(device)\n",
        "\n",
        "    # Training function\n",
        "    def train_model(model, name):\n",
        "        optimizer = torch.optim.SGD(model.parameters(), lr=0.1, momentum=0.9, weight_decay=1e-4)\n",
        "        scheduler = torch.optim.lr_scheduler.CosineAnnealingLR(optimizer, T_max=30)\n",
        "\n",
        "        print(f\"\\nTraining {name}...\")\n",
        "        for epoch in range(30):\n",
        "            model.train()\n",
        "            for x, y in train_loader:\n",
        "                x, y = x.to(device), y.to(device)\n",
        "                optimizer.zero_grad()\n",
        "                output = model(x)\n",
        "                loss = criterion(output, y)\n",
        "                loss.backward()\n",
        "                optimizer.step()\n",
        "            scheduler.step()\n",
        "\n",
        "            # Validation\n",
        "            model.eval()\n",
        "            correct = 0\n",
        "            with torch.no_grad():\n",
        "                for x, y in val_loader:\n",
        "                    x, y = x.to(device), y.to(device)\n",
        "                    outputs = model(x)\n",
        "                    _, predicted = torch.max(outputs.data, 1)\n",
        "                    correct += (predicted == y).sum().item()\n",
        "\n",
        "            val_acc = 100 * correct / len(val_dataset)\n",
        "            print(f'Epoch {epoch+1}/30 | Val Acc: {val_acc:.2f}%')\n",
        "\n",
        "        # Final test evaluation\n",
        "        test_correct = 0\n",
        "        with torch.no_grad():\n",
        "            for x, y in test_loader:\n",
        "                x, y = x.to(device), y.to(device)\n",
        "                outputs = model(x)\n",
        "                _, predicted = torch.max(outputs.data, 1)\n",
        "                test_correct += (predicted == y).sum().item()\n",
        "\n",
        "        test_acc = 100 * test_correct / len(test_dataset)\n",
        "        params = sum(p.numel() for p in model.parameters()) / 1e6  # in millions\n",
        "        return test_acc, params\n",
        "\n",
        "    # Train and compare\n",
        "    ode_acc, ode_params = train_model(ode_model, \"ODE-Net\")\n",
        "    resnet_acc, resnet_params = train_model(resnet_model, \"ResNet\")\n",
        "\n",
        "    # Print comparison table\n",
        "    print(\"\\n=== Final Comparison ===\")\n",
        "    print(f\"{'Model':<10} | {'Test Acc (%)':<12} | {'Params (M)':<10} | {'Memory Efficiency':<16}\")\n",
        "    print(\"-\"*50)\n",
        "    print(f\"{'ODE-Net':<10} | {ode_acc:<12.2f} | {ode_params:<10.2f} | O(1) (constant)\")\n",
        "    print(f\"{'ResNet':<10} | {resnet_acc:<12.2f} | {resnet_params:<10.2f} | O(L) (linear)\")\n",
        "\n",
        "# Run the comparison\n",
        "# train_and_compare()"
      ],
      "metadata": {
        "colab": {
          "base_uri": "https://localhost:8080/",
          "height": 936
        },
        "id": "CoKA_b_UqewU",
        "outputId": "a2596031-0506-413b-bc7c-4f2326f7e417"
      },
      "execution_count": null,
      "outputs": [
        {
          "output_type": "stream",
          "name": "stdout",
          "text": [
            "\n",
            "Training ODE-Net...\n",
            "Epoch 1/30 | Val Acc: 99.50%\n",
            "Epoch 2/30 | Val Acc: 99.22%\n",
            "Epoch 3/30 | Val Acc: 99.32%\n",
            "Epoch 4/30 | Val Acc: 98.83%\n",
            "Epoch 5/30 | Val Acc: 99.28%\n",
            "Epoch 6/30 | Val Acc: 99.33%\n",
            "Epoch 7/30 | Val Acc: 99.18%\n",
            "Epoch 8/30 | Val Acc: 99.33%\n",
            "Epoch 9/30 | Val Acc: 99.37%\n",
            "Epoch 10/30 | Val Acc: 99.17%\n",
            "Epoch 11/30 | Val Acc: 99.48%\n",
            "Epoch 12/30 | Val Acc: 99.42%\n",
            "Epoch 13/30 | Val Acc: 99.37%\n",
            "Epoch 14/30 | Val Acc: 99.38%\n",
            "Epoch 15/30 | Val Acc: 99.48%\n",
            "Epoch 16/30 | Val Acc: 99.33%\n",
            "Epoch 17/30 | Val Acc: 99.48%\n",
            "Epoch 18/30 | Val Acc: 99.52%\n",
            "Epoch 19/30 | Val Acc: 99.57%\n",
            "Epoch 20/30 | Val Acc: 99.60%\n",
            "Epoch 21/30 | Val Acc: 99.60%\n",
            "Epoch 22/30 | Val Acc: 99.38%\n",
            "Epoch 23/30 | Val Acc: 99.67%\n",
            "Epoch 24/30 | Val Acc: 99.60%\n",
            "Epoch 25/30 | Val Acc: 99.60%\n",
            "Epoch 26/30 | Val Acc: 99.55%\n",
            "Epoch 27/30 | Val Acc: 99.60%\n",
            "Epoch 28/30 | Val Acc: 99.68%\n",
            "Epoch 29/30 | Val Acc: 99.65%\n",
            "Epoch 30/30 | Val Acc: 99.63%\n",
            "\n",
            "Training ResNet...\n"
          ]
        },
        {
          "output_type": "error",
          "ename": "NotImplementedError",
          "evalue": "Module [BasicResNet] is missing the required \"forward\" function",
          "traceback": [
            "\u001b[0;31m---------------------------------------------------------------------------\u001b[0m",
            "\u001b[0;31mNotImplementedError\u001b[0m                       Traceback (most recent call last)",
            "\u001b[0;32m<ipython-input-23-7fdd47554c13>\u001b[0m in \u001b[0;36m<cell line: 0>\u001b[0;34m()\u001b[0m\n\u001b[1;32m    101\u001b[0m \u001b[0;34m\u001b[0m\u001b[0m\n\u001b[1;32m    102\u001b[0m \u001b[0;31m# Run the comparison\u001b[0m\u001b[0;34m\u001b[0m\u001b[0;34m\u001b[0m\u001b[0m\n\u001b[0;32m--> 103\u001b[0;31m \u001b[0mtrain_and_compare\u001b[0m\u001b[0;34m(\u001b[0m\u001b[0;34m)\u001b[0m\u001b[0;34m\u001b[0m\u001b[0;34m\u001b[0m\u001b[0m\n\u001b[0m",
            "\u001b[0;32m<ipython-input-23-7fdd47554c13>\u001b[0m in \u001b[0;36mtrain_and_compare\u001b[0;34m()\u001b[0m\n\u001b[1;32m     91\u001b[0m     \u001b[0;31m# Train and compare\u001b[0m\u001b[0;34m\u001b[0m\u001b[0;34m\u001b[0m\u001b[0m\n\u001b[1;32m     92\u001b[0m     \u001b[0mode_acc\u001b[0m\u001b[0;34m,\u001b[0m \u001b[0mode_params\u001b[0m \u001b[0;34m=\u001b[0m \u001b[0mtrain_model\u001b[0m\u001b[0;34m(\u001b[0m\u001b[0mode_model\u001b[0m\u001b[0;34m,\u001b[0m \u001b[0;34m\"ODE-Net\"\u001b[0m\u001b[0;34m)\u001b[0m\u001b[0;34m\u001b[0m\u001b[0;34m\u001b[0m\u001b[0m\n\u001b[0;32m---> 93\u001b[0;31m     \u001b[0mresnet_acc\u001b[0m\u001b[0;34m,\u001b[0m \u001b[0mresnet_params\u001b[0m \u001b[0;34m=\u001b[0m \u001b[0mtrain_model\u001b[0m\u001b[0;34m(\u001b[0m\u001b[0mresnet_model\u001b[0m\u001b[0;34m,\u001b[0m \u001b[0;34m\"ResNet\"\u001b[0m\u001b[0;34m)\u001b[0m\u001b[0;34m\u001b[0m\u001b[0;34m\u001b[0m\u001b[0m\n\u001b[0m\u001b[1;32m     94\u001b[0m \u001b[0;34m\u001b[0m\u001b[0m\n\u001b[1;32m     95\u001b[0m     \u001b[0;31m# Print comparison table\u001b[0m\u001b[0;34m\u001b[0m\u001b[0;34m\u001b[0m\u001b[0m\n",
            "\u001b[0;32m<ipython-input-23-7fdd47554c13>\u001b[0m in \u001b[0;36mtrain_model\u001b[0;34m(model, name)\u001b[0m\n\u001b[1;32m     57\u001b[0m                 \u001b[0mx\u001b[0m\u001b[0;34m,\u001b[0m \u001b[0my\u001b[0m \u001b[0;34m=\u001b[0m \u001b[0mx\u001b[0m\u001b[0;34m.\u001b[0m\u001b[0mto\u001b[0m\u001b[0;34m(\u001b[0m\u001b[0mdevice\u001b[0m\u001b[0;34m)\u001b[0m\u001b[0;34m,\u001b[0m \u001b[0my\u001b[0m\u001b[0;34m.\u001b[0m\u001b[0mto\u001b[0m\u001b[0;34m(\u001b[0m\u001b[0mdevice\u001b[0m\u001b[0;34m)\u001b[0m\u001b[0;34m\u001b[0m\u001b[0;34m\u001b[0m\u001b[0m\n\u001b[1;32m     58\u001b[0m                 \u001b[0moptimizer\u001b[0m\u001b[0;34m.\u001b[0m\u001b[0mzero_grad\u001b[0m\u001b[0;34m(\u001b[0m\u001b[0;34m)\u001b[0m\u001b[0;34m\u001b[0m\u001b[0;34m\u001b[0m\u001b[0m\n\u001b[0;32m---> 59\u001b[0;31m                 \u001b[0moutput\u001b[0m \u001b[0;34m=\u001b[0m \u001b[0mmodel\u001b[0m\u001b[0;34m(\u001b[0m\u001b[0mx\u001b[0m\u001b[0;34m)\u001b[0m\u001b[0;34m\u001b[0m\u001b[0;34m\u001b[0m\u001b[0m\n\u001b[0m\u001b[1;32m     60\u001b[0m                 \u001b[0mloss\u001b[0m \u001b[0;34m=\u001b[0m \u001b[0mcriterion\u001b[0m\u001b[0;34m(\u001b[0m\u001b[0moutput\u001b[0m\u001b[0;34m,\u001b[0m \u001b[0my\u001b[0m\u001b[0;34m)\u001b[0m\u001b[0;34m\u001b[0m\u001b[0;34m\u001b[0m\u001b[0m\n\u001b[1;32m     61\u001b[0m                 \u001b[0mloss\u001b[0m\u001b[0;34m.\u001b[0m\u001b[0mbackward\u001b[0m\u001b[0;34m(\u001b[0m\u001b[0;34m)\u001b[0m\u001b[0;34m\u001b[0m\u001b[0;34m\u001b[0m\u001b[0m\n",
            "\u001b[0;32m/usr/local/lib/python3.11/dist-packages/torch/nn/modules/module.py\u001b[0m in \u001b[0;36m_wrapped_call_impl\u001b[0;34m(self, *args, **kwargs)\u001b[0m\n\u001b[1;32m   1737\u001b[0m             \u001b[0;32mreturn\u001b[0m \u001b[0mself\u001b[0m\u001b[0;34m.\u001b[0m\u001b[0m_compiled_call_impl\u001b[0m\u001b[0;34m(\u001b[0m\u001b[0;34m*\u001b[0m\u001b[0margs\u001b[0m\u001b[0;34m,\u001b[0m \u001b[0;34m**\u001b[0m\u001b[0mkwargs\u001b[0m\u001b[0;34m)\u001b[0m  \u001b[0;31m# type: ignore[misc]\u001b[0m\u001b[0;34m\u001b[0m\u001b[0;34m\u001b[0m\u001b[0m\n\u001b[1;32m   1738\u001b[0m         \u001b[0;32melse\u001b[0m\u001b[0;34m:\u001b[0m\u001b[0;34m\u001b[0m\u001b[0;34m\u001b[0m\u001b[0m\n\u001b[0;32m-> 1739\u001b[0;31m             \u001b[0;32mreturn\u001b[0m \u001b[0mself\u001b[0m\u001b[0;34m.\u001b[0m\u001b[0m_call_impl\u001b[0m\u001b[0;34m(\u001b[0m\u001b[0;34m*\u001b[0m\u001b[0margs\u001b[0m\u001b[0;34m,\u001b[0m \u001b[0;34m**\u001b[0m\u001b[0mkwargs\u001b[0m\u001b[0;34m)\u001b[0m\u001b[0;34m\u001b[0m\u001b[0;34m\u001b[0m\u001b[0m\n\u001b[0m\u001b[1;32m   1740\u001b[0m \u001b[0;34m\u001b[0m\u001b[0m\n\u001b[1;32m   1741\u001b[0m     \u001b[0;31m# torchrec tests the code consistency with the following code\u001b[0m\u001b[0;34m\u001b[0m\u001b[0;34m\u001b[0m\u001b[0m\n",
            "\u001b[0;32m/usr/local/lib/python3.11/dist-packages/torch/nn/modules/module.py\u001b[0m in \u001b[0;36m_call_impl\u001b[0;34m(self, *args, **kwargs)\u001b[0m\n\u001b[1;32m   1748\u001b[0m                 \u001b[0;32mor\u001b[0m \u001b[0m_global_backward_pre_hooks\u001b[0m \u001b[0;32mor\u001b[0m \u001b[0m_global_backward_hooks\u001b[0m\u001b[0;34m\u001b[0m\u001b[0;34m\u001b[0m\u001b[0m\n\u001b[1;32m   1749\u001b[0m                 or _global_forward_hooks or _global_forward_pre_hooks):\n\u001b[0;32m-> 1750\u001b[0;31m             \u001b[0;32mreturn\u001b[0m \u001b[0mforward_call\u001b[0m\u001b[0;34m(\u001b[0m\u001b[0;34m*\u001b[0m\u001b[0margs\u001b[0m\u001b[0;34m,\u001b[0m \u001b[0;34m**\u001b[0m\u001b[0mkwargs\u001b[0m\u001b[0;34m)\u001b[0m\u001b[0;34m\u001b[0m\u001b[0;34m\u001b[0m\u001b[0m\n\u001b[0m\u001b[1;32m   1751\u001b[0m \u001b[0;34m\u001b[0m\u001b[0m\n\u001b[1;32m   1752\u001b[0m         \u001b[0mresult\u001b[0m \u001b[0;34m=\u001b[0m \u001b[0;32mNone\u001b[0m\u001b[0;34m\u001b[0m\u001b[0;34m\u001b[0m\u001b[0m\n",
            "\u001b[0;32m/usr/local/lib/python3.11/dist-packages/torch/nn/modules/module.py\u001b[0m in \u001b[0;36m_forward_unimplemented\u001b[0;34m(self, *input)\u001b[0m\n\u001b[1;32m    395\u001b[0m         \u001b[0mregistered\u001b[0m \u001b[0mhooks\u001b[0m \u001b[0;32mwhile\u001b[0m \u001b[0mthe\u001b[0m \u001b[0mlatter\u001b[0m \u001b[0msilently\u001b[0m \u001b[0mignores\u001b[0m \u001b[0mthem\u001b[0m\u001b[0;34m.\u001b[0m\u001b[0;34m\u001b[0m\u001b[0;34m\u001b[0m\u001b[0m\n\u001b[1;32m    396\u001b[0m     \"\"\"\n\u001b[0;32m--> 397\u001b[0;31m     raise NotImplementedError(\n\u001b[0m\u001b[1;32m    398\u001b[0m         \u001b[0;34mf'Module [{type(self).__name__}] is missing the required \"forward\" function'\u001b[0m\u001b[0;34m\u001b[0m\u001b[0;34m\u001b[0m\u001b[0m\n\u001b[1;32m    399\u001b[0m     )\n",
            "\u001b[0;31mNotImplementedError\u001b[0m: Module [BasicResNet] is missing the required \"forward\" function"
          ]
        }
      ]
    }
  ]
}